{
 "cells": [
  {
   "cell_type": "code",
   "execution_count": 1,
   "id": "414995cf",
   "metadata": {},
   "outputs": [],
   "source": [
    "# Import necessary libraries\n",
    "import seaborn as sns\n",
    "import pandas as pd\n",
    "import numpy as np\n",
    "from sklearn.linear_model import LinearRegression\n",
    "import matplotlib.pyplot as plt"
   ]
  },
  {
   "cell_type": "code",
   "execution_count": 2,
   "id": "d3e31d44",
   "metadata": {},
   "outputs": [],
   "source": [
    "#Load the 'flights' dataset\n",
    "flights_data = sns.load_dataset(\"flights\")"
   ]
  },
  {
   "cell_type": "code",
   "execution_count": 3,
   "id": "7d44c464",
   "metadata": {},
   "outputs": [
    {
     "data": {
      "text/html": [
       "<div>\n",
       "<style scoped>\n",
       "    .dataframe tbody tr th:only-of-type {\n",
       "        vertical-align: middle;\n",
       "    }\n",
       "\n",
       "    .dataframe tbody tr th {\n",
       "        vertical-align: top;\n",
       "    }\n",
       "\n",
       "    .dataframe thead th {\n",
       "        text-align: right;\n",
       "    }\n",
       "</style>\n",
       "<table border=\"1\" class=\"dataframe\">\n",
       "  <thead>\n",
       "    <tr style=\"text-align: right;\">\n",
       "      <th></th>\n",
       "      <th>year</th>\n",
       "      <th>month</th>\n",
       "      <th>passengers</th>\n",
       "    </tr>\n",
       "  </thead>\n",
       "  <tbody>\n",
       "    <tr>\n",
       "      <th>0</th>\n",
       "      <td>1949</td>\n",
       "      <td>Jan</td>\n",
       "      <td>112</td>\n",
       "    </tr>\n",
       "    <tr>\n",
       "      <th>1</th>\n",
       "      <td>1949</td>\n",
       "      <td>Feb</td>\n",
       "      <td>118</td>\n",
       "    </tr>\n",
       "    <tr>\n",
       "      <th>2</th>\n",
       "      <td>1949</td>\n",
       "      <td>Mar</td>\n",
       "      <td>132</td>\n",
       "    </tr>\n",
       "    <tr>\n",
       "      <th>3</th>\n",
       "      <td>1949</td>\n",
       "      <td>Apr</td>\n",
       "      <td>129</td>\n",
       "    </tr>\n",
       "    <tr>\n",
       "      <th>4</th>\n",
       "      <td>1949</td>\n",
       "      <td>May</td>\n",
       "      <td>121</td>\n",
       "    </tr>\n",
       "  </tbody>\n",
       "</table>\n",
       "</div>"
      ],
      "text/plain": [
       "   year month  passengers\n",
       "0  1949   Jan         112\n",
       "1  1949   Feb         118\n",
       "2  1949   Mar         132\n",
       "3  1949   Apr         129\n",
       "4  1949   May         121"
      ]
     },
     "execution_count": 3,
     "metadata": {},
     "output_type": "execute_result"
    }
   ],
   "source": [
    "#Raw Data Exploration\n",
    "flights_data.head()"
   ]
  },
  {
   "cell_type": "code",
   "execution_count": 4,
   "id": "d000ca71",
   "metadata": {},
   "outputs": [
    {
     "name": "stdout",
     "output_type": "stream",
     "text": [
      "<class 'pandas.core.frame.DataFrame'>\n",
      "RangeIndex: 144 entries, 0 to 143\n",
      "Data columns (total 3 columns):\n",
      " #   Column      Non-Null Count  Dtype   \n",
      "---  ------      --------------  -----   \n",
      " 0   year        144 non-null    int64   \n",
      " 1   month       144 non-null    category\n",
      " 2   passengers  144 non-null    int64   \n",
      "dtypes: category(1), int64(2)\n",
      "memory usage: 2.9 KB\n"
     ]
    }
   ],
   "source": [
    "flights_data.info()"
   ]
  },
  {
   "cell_type": "code",
   "execution_count": 5,
   "id": "ab2d9500",
   "metadata": {},
   "outputs": [
    {
     "data": {
      "text/html": [
       "<div>\n",
       "<style scoped>\n",
       "    .dataframe tbody tr th:only-of-type {\n",
       "        vertical-align: middle;\n",
       "    }\n",
       "\n",
       "    .dataframe tbody tr th {\n",
       "        vertical-align: top;\n",
       "    }\n",
       "\n",
       "    .dataframe thead th {\n",
       "        text-align: right;\n",
       "    }\n",
       "</style>\n",
       "<table border=\"1\" class=\"dataframe\">\n",
       "  <thead>\n",
       "    <tr style=\"text-align: right;\">\n",
       "      <th></th>\n",
       "      <th>year</th>\n",
       "      <th>month</th>\n",
       "      <th>passengers</th>\n",
       "    </tr>\n",
       "  </thead>\n",
       "  <tbody>\n",
       "    <tr>\n",
       "      <th>count</th>\n",
       "      <td>144.000000</td>\n",
       "      <td>144</td>\n",
       "      <td>144.000000</td>\n",
       "    </tr>\n",
       "    <tr>\n",
       "      <th>unique</th>\n",
       "      <td>NaN</td>\n",
       "      <td>12</td>\n",
       "      <td>NaN</td>\n",
       "    </tr>\n",
       "    <tr>\n",
       "      <th>top</th>\n",
       "      <td>NaN</td>\n",
       "      <td>Jan</td>\n",
       "      <td>NaN</td>\n",
       "    </tr>\n",
       "    <tr>\n",
       "      <th>freq</th>\n",
       "      <td>NaN</td>\n",
       "      <td>12</td>\n",
       "      <td>NaN</td>\n",
       "    </tr>\n",
       "    <tr>\n",
       "      <th>mean</th>\n",
       "      <td>1954.500000</td>\n",
       "      <td>NaN</td>\n",
       "      <td>280.298611</td>\n",
       "    </tr>\n",
       "    <tr>\n",
       "      <th>std</th>\n",
       "      <td>3.464102</td>\n",
       "      <td>NaN</td>\n",
       "      <td>119.966317</td>\n",
       "    </tr>\n",
       "    <tr>\n",
       "      <th>min</th>\n",
       "      <td>1949.000000</td>\n",
       "      <td>NaN</td>\n",
       "      <td>104.000000</td>\n",
       "    </tr>\n",
       "    <tr>\n",
       "      <th>25%</th>\n",
       "      <td>1951.750000</td>\n",
       "      <td>NaN</td>\n",
       "      <td>180.000000</td>\n",
       "    </tr>\n",
       "    <tr>\n",
       "      <th>50%</th>\n",
       "      <td>1954.500000</td>\n",
       "      <td>NaN</td>\n",
       "      <td>265.500000</td>\n",
       "    </tr>\n",
       "    <tr>\n",
       "      <th>75%</th>\n",
       "      <td>1957.250000</td>\n",
       "      <td>NaN</td>\n",
       "      <td>360.500000</td>\n",
       "    </tr>\n",
       "    <tr>\n",
       "      <th>max</th>\n",
       "      <td>1960.000000</td>\n",
       "      <td>NaN</td>\n",
       "      <td>622.000000</td>\n",
       "    </tr>\n",
       "  </tbody>\n",
       "</table>\n",
       "</div>"
      ],
      "text/plain": [
       "               year month  passengers\n",
       "count    144.000000   144  144.000000\n",
       "unique          NaN    12         NaN\n",
       "top             NaN   Jan         NaN\n",
       "freq            NaN    12         NaN\n",
       "mean    1954.500000   NaN  280.298611\n",
       "std        3.464102   NaN  119.966317\n",
       "min     1949.000000   NaN  104.000000\n",
       "25%     1951.750000   NaN  180.000000\n",
       "50%     1954.500000   NaN  265.500000\n",
       "75%     1957.250000   NaN  360.500000\n",
       "max     1960.000000   NaN  622.000000"
      ]
     },
     "execution_count": 5,
     "metadata": {},
     "output_type": "execute_result"
    }
   ],
   "source": [
    "flights_data.describe(include='all')"
   ]
  },
  {
   "cell_type": "code",
   "execution_count": 6,
   "id": "381ca248",
   "metadata": {},
   "outputs": [],
   "source": [
    "# Pivot the dataset to get yearly passengers sum\n",
    "flights_pivot = pd.pivot_table(flights_data, values='passengers', index='year', aggfunc='sum').reset_index()"
   ]
  },
  {
   "cell_type": "code",
   "execution_count": 7,
   "id": "2411116e",
   "metadata": {},
   "outputs": [],
   "source": [
    "# Prepare data for model fitting\n",
    "X = np.array(flights_pivot['year']).reshape(-1, 1)\n",
    "y = flights_pivot['passengers']"
   ]
  },
  {
   "cell_type": "code",
   "execution_count": 8,
   "id": "3dfb78b1",
   "metadata": {},
   "outputs": [],
   "source": [
    "# Fit the Linear Regression model\n",
    "reg = LinearRegression().fit(X, y)"
   ]
  },
  {
   "cell_type": "code",
   "execution_count": 9,
   "id": "dcb4aa62",
   "metadata": {},
   "outputs": [],
   "source": [
    "# Predict the passenger counts for the next decade\n",
    "new_years = np.array(range(1961, 1971)).reshape(-1, 1)\n",
    "new_passenger_numbers = reg.predict(new_years)"
   ]
  },
  {
   "cell_type": "code",
   "execution_count": 10,
   "id": "7e369fa4",
   "metadata": {},
   "outputs": [
    {
     "data": {
      "image/png": "[encoded data removed]",
      "text/plain": [
       "<Figure size 640x480 with 1 Axes>"
      ]
     },
     "metadata": {},
     "output_type": "display_data"
    }
   ],
   "source": [
    "# Plot the original data and the predictions\n",
    "plt.scatter(X, y, color='blue', s=30)\n",
    "plt.plot(X, reg.predict(X), color='orange')\n",
    "plt.scatter(new_years, new_passenger_numbers, color='red', s=30)\n",
    "plt.plot(new_years, new_passenger_numbers, color='green')\n",
    "\n",
    "# Set labels and title \n",
    "plt.xlabel(\"Year\")\n",
    "plt.ylabel(\"Total Passengers\")\n",
    "plt.title(\"Historical and Predicted Airline Passengers Over Time\")\n",
    "\n",
    "# Show the plot\n",
    "plt.show()"
   ]
  },
  {
   "cell_type": "code",
   "execution_count": 11,
   "id": "b50bcc9b",
   "metadata": {},
   "outputs": [
    {
     "name": "stdout",
     "output_type": "stream",
     "text": [
      "R-squared statistic:  0.9866055381778157\n"
     ]
    }
   ],
   "source": [
    "print (\"R-squared statistic: \", reg.score(X, y))"
   ]
  },
  {
   "cell_type": "code",
   "execution_count": 12,
   "id": "d4f08190",
   "metadata": {},
   "outputs": [
    {
     "name": "stdout",
     "output_type": "stream",
     "text": [
      "Year, Predicted Passengers\n",
      "1961, 5853\n",
      "1962, 6236\n",
      "1963, 6619\n",
      "1964, 7002\n",
      "1965, 7386\n",
      "1966, 7769\n",
      "1967, 8152\n",
      "1968, 8535\n",
      "1969, 8918\n",
      "1970, 9301\n"
     ]
    }
   ],
   "source": [
    "# Forecast for the next 10 years\n",
    "print(\"Year, Predicted Passengers\")\n",
    "for year, passengers in zip(new_years, new_passenger_numbers):\n",
    "    print(f\"{year[0]}, {int(passengers)}\")"
   ]
  },
  {
   "cell_type": "code",
   "execution_count": 13,
   "id": "2d7af898",
   "metadata": {},
   "outputs": [
    {
     "data": {
      "image/png": "[encoded data removed]",
      "text/plain": [
       "<Figure size 640x480 with 1 Axes>"
      ]
     },
     "metadata": {},
     "output_type": "display_data"
    }
   ],
   "source": [
    "#Another way to do the task\n",
    "# Import necessary libraries\n",
    "import seaborn as sns\n",
    "import pandas as pd\n",
    "import numpy as np\n",
    "from sklearn.linear_model import LinearRegression\n",
    "import matplotlib.pyplot as plt\n",
    "\n",
    "# TODO: Load the 'flights' dataset\n",
    "flights_data=sns.load_dataset(\"flights\")\n",
    "\n",
    "# TODO: Pivot the dataset to get the yearly passenger count\n",
    "flights_pivot=pd.pivot_table(data=flights_data, values='passengers', index='year', aggfunc='sum').reset_index()\n",
    "# TODO: Prepare data for model fitting\n",
    "X=np.array(flights_pivot[\"year\"]).reshape(-1,1)\n",
    "y=np.array(flights_pivot[\"passengers\"])\n",
    "# TODO: Fit the Linear Regression model\n",
    "reg=LinearRegression().fit(X,y)\n",
    "# TODO: Predict the passenger counts for the next decade\n",
    "new_years=np.array(range(1970,1981)).reshape(-1,1)\n",
    "new_passengers=reg.predict(new_years)\n",
    "# TODO: Plot the original data and the regression line\n",
    "# This step is correct for plotting historical data:\n",
    "plt.scatter(X, y, color = \"red\", marker = \"o\", s = 30)\n",
    "\n",
    "# Combine historical and future years for a complete line\n",
    "all_years = np.concatenate((X, new_years), axis=0)\n",
    "\n",
    "# Predict passengers for combined historical and future years\n",
    "all_passengers_predicted = reg.predict(all_years)\n",
    "\n",
    "# Plot the regression line\n",
    "plt.plot(all_years, all_passengers_predicted, color=\"green\")\n",
    "\n",
    "# Plotting the predicted data points:\n",
    "plt.scatter(new_years, new_passengers, color=\"blue\", marker=\"o\", s=30)\n",
    "\n",
    "# Your labeling and title:\n",
    "plt.xlabel('Year')\n",
    "plt.ylabel('Passengers')\n",
    "plt.title('Linear Regression: Passengers Over Time')\n",
    "\n",
    "# Display your plot\n",
    "plt.show()"
   ]
  },
  {
   "cell_type": "code",
   "execution_count": null,
   "id": "2d16ca0b",
   "metadata": {},
   "outputs": [],
   "source": []
  }
 ],
 "metadata": {
  "kernelspec": {
   "display_name": "Python 3 (ipykernel)",
   "language": "python",
   "name": "python3"
  },
  "language_info": {
   "codemirror_mode": {
    "name": "ipython",
    "version": 3
   },
   "file_extension": ".py",
   "mimetype": "text/x-python",
   "name": "python",
   "nbconvert_exporter": "python",
   "pygments_lexer": "ipython3",
   "version": "3.11.5"
  }
 },
 "nbformat": 4,
 "nbformat_minor": 5
}
